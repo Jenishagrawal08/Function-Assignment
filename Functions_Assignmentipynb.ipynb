{
  "nbformat": 4,
  "nbformat_minor": 0,
  "metadata": {
    "colab": {
      "provenance": []
    },
    "kernelspec": {
      "name": "python3",
      "display_name": "Python 3"
    },
    "language_info": {
      "name": "python"
    }
  },
  "cells": [
    {
      "cell_type": "markdown",
      "source": [
        "**THOERY QUESTIONS**"
      ],
      "metadata": {
        "id": "xBOPXBFf0lbg"
      }
    },
    {
      "cell_type": "markdown",
      "source": [
        "**ANS 1:** In Python, both functions and methods are callable objects, but there are key differences:\n",
        "\n",
        "Function:\n",
        "\n",
        "A function is a block of code that performs a specific task and can be defined using the def keyword.\n",
        "Functions are independent and not bound to any particular object or class.\n",
        "\n",
        "Method:\n",
        "\n",
        "A method is similar to a function but is associated with an object or class. It operates on instances of a class and has access to the object's attributes.\n",
        "Methods are defined within a class and are called on instances (or the class itself, if it's a class method).\n",
        "The first parameter of a method is usually self, which refers to the instance of the class.\""
      ],
      "metadata": {
        "id": "sNMQZssW0sSi"
      }
    },
    {
      "cell_type": "markdown",
      "source": [
        "**ANS 2:** 1. Parameters:\n",
        "Parameters are the variables defined in a function definition that specify what kind of input the function expects when called.\n",
        "They act as placeholders for the values that will be passed into the function when it is invoked.\n",
        "\n",
        "Arguments:\n",
        "Arguments are the actual values passed to the function when it is called.\n",
        "These values are assigned to the corresponding parameters."
      ],
      "metadata": {
        "id": "OCBYK8Oi0sxD"
      }
    },
    {
      "cell_type": "markdown",
      "source": [
        "**ANS 3:** 1. Basic Function Definition and Call\n",
        "A simple function is defined using the def keyword, followed by the function name, parameters, and a function body.\n",
        "\n",
        "2. Function with Return Value\n",
        "A function can return a value using the return keyword, which can then be used in other expressions or stored in variables.\n",
        "\n",
        "3. Function with Default Parameters\n",
        "You can define default values for parameters. If no argument is passed for that parameter, the default value is used.\n",
        "\n",
        "4. Function with Variable-Length Arguments (Using *args and **kwargs)\n",
        "You can define functions that accept a variable number of arguments using *args (for non-keyword arguments) and **kwargs (for keyword arguments).\n",
        "\n",
        "5. Lambda Functions (Anonymous Functions)\n",
        "Lambda functions are small anonymous functions defined using the lambda keyword. These functions are useful for simple tasks and can be passed around as arguments.\n",
        "\n",
        "6. Function as an Argument (Higher-Order Functions)\n",
        "You can pass functions as arguments to other functions."
      ],
      "metadata": {
        "id": "ckdIe5Mg0tJY"
      }
    },
    {
      "cell_type": "markdown",
      "source": [
        "**ANS 4:** The return statement in a Python function is used to send a result back to the caller. It exits the function and optionally provides a value to be used outside the function. If no return statement is specified, the function returns None by default."
      ],
      "metadata": {
        "id": "lPG82qdu0tpL"
      }
    },
    {
      "cell_type": "markdown",
      "source": [
        "**ANS 5:** Iterable:\n",
        "An iterable is any object that can return an iterator. It is a collection of elements that can be iterated over (looped through).\n",
        "Examples of iterables include lists, tuples, strings, and dictionaries. These objects implement the __iter__() method, which returns an iterator.\n",
        "\n",
        "Iterator:\n",
        "An iterator is an object that keeps track of the iteration state and provides the next item in the sequence when requested. An iterator must implement two methods:\n",
        "__iter__(): Returns the iterator object itself.\n",
        "__next__(): Returns the next item in the sequence and raises StopIteration when the iteration is complete."
      ],
      "metadata": {
        "id": "L5drAw5T0uAp"
      }
    },
    {
      "cell_type": "markdown",
      "source": [
        "**ANS 6:** Generators in Python:\n",
        "A generator in Python is a special type of iterator that allows you to iterate over a sequence of values lazily, meaning values are generated one at a time, only when needed, rather than all at once. This can be more memory-efficient, especially when dealing with large datasets.\n",
        "\n",
        "How Generators are Defined:\n",
        "\n",
        "Using a Generator Function:\n",
        "\n",
        "A generator function is defined using the def keyword, but instead of using return, it uses the yield keyword to return values.\n",
        "When yield is called, the function's state is saved, and the value is sent back to the caller. The next time the function is called, it resumes from where it left off.\n",
        "\n",
        "Using a Generator Expression:\n",
        "\n",
        "A generator expression is a compact way to create a generator, similar to list comprehensions but with parentheses instead of square brackets.\n",
        "Like generator functions, they use lazy evaluation."
      ],
      "metadata": {
        "id": "IblngreL2NRF"
      }
    },
    {
      "cell_type": "markdown",
      "source": [
        "**ANS 7:** Generators offer several advantages over regular functions:\n",
        "\n",
        "1) Memory Efficiency: Generators generate values one at a time and do not store them in memory, making them more memory-efficient, especially when working with large datasets or infinite sequences.\n",
        "\n",
        "2) Lazy Evaluation: Values are computed only when needed, allowing you to process data incrementally rather than all at once. This can improve performance, particularly with large inputs.\n",
        "\n",
        "3)State Preservation: Generators maintain their state between iterations, meaning they can resume where they left off, avoiding the need to manage state manually."
      ],
      "metadata": {
        "id": "0ethx-ke2Npo"
      }
    },
    {
      "cell_type": "markdown",
      "source": [
        "**ANS 8:** A lambda function in Python is an anonymous, small, and single-expression function defined using the lambda keyword. It can take any number of arguments but can only have one expression, which is evaluated and returned.\n",
        "\n",
        "When is it used?\n",
        "\n",
        "Short-lived functions: Used when you need a simple function for a short period, typically as an argument to higher-order functions like map(), filter(), and sorted().\n",
        "Inline use: When defining a function on the fly without needing a full function definition using def."
      ],
      "metadata": {
        "id": "UIX3fOy62N9G"
      }
    },
    {
      "cell_type": "markdown",
      "source": [
        "**ANS 9:** The map() function in Python is used to apply a given function to all items in an iterable (like a list or tuple) and return a map object (which is an iterator) containing the results\n",
        "\n",
        "Purpose:\n",
        "Transformation: It applies the specified function to each item in the iterable and transforms the items based on the function.\n",
        "Efficiency: It is often used for processing elements in a collection without writing explicit loops."
      ],
      "metadata": {
        "id": "_wQB3NGi2OP_"
      }
    },
    {
      "cell_type": "markdown",
      "source": [
        "**ANS 10:** 1. map():\n",
        "Purpose: Applies a function to each item in an iterable and returns a map object with the results.\n",
        "Usage: Used when you want to transform or modify each element in an iterable.\n",
        "\n",
        "2. reduce():\n",
        "Purpose: Applies a function cumulatively to the items in an iterable, reducing it to a single value.\n",
        "Usage: Used for accumulating or combining values in an iterable (e.g., summing values).\n",
        "\n",
        "3. filter():\n",
        "Purpose: Filters elements from an iterable based on a function that returns True or False, and returns an iterator with the items where the function returned True.\n",
        "Usage: Used when you want to filter elements based on a condition"
      ],
      "metadata": {
        "id": "F6sx1W7Q3pOC"
      }
    },
    {
      "cell_type": "markdown",
      "source": [
        "**Practical Questions**"
      ],
      "metadata": {
        "id": "F3EcN4nR3pxc"
      }
    },
    {
      "cell_type": "code",
      "execution_count": 1,
      "metadata": {
        "colab": {
          "base_uri": "https://localhost:8080/"
        },
        "id": "6XEpGTml0iMx",
        "outputId": "df707c58-3fb1-475c-e64a-fc1f79a7c5c5"
      },
      "outputs": [
        {
          "output_type": "stream",
          "name": "stdout",
          "text": [
            "12\n"
          ]
        }
      ],
      "source": [
        "#ANS 1\n",
        "def sum_of_even_numbers(numbers):\n",
        "    return sum(filter(lambda x: x % 2 == 0, numbers))\n",
        "\n",
        "# Example usage:\n",
        "numbers = [1, 2, 3, 4, 5, 6]\n",
        "result = sum_of_even_numbers(numbers)\n",
        "print(result)  # Output: 12 (2 + 4 + 6)\n"
      ]
    },
    {
      "cell_type": "code",
      "source": [
        "#ANS 2\n",
        "def reverse_string(s):\n",
        "    return s[::-1]\n",
        "\n",
        "# Example usage:\n",
        "input_string = \"hello\"\n",
        "result = reverse_string(input_string)\n",
        "print(result)  # Output: \"olleh\"\n"
      ],
      "metadata": {
        "colab": {
          "base_uri": "https://localhost:8080/"
        },
        "id": "jL-ykPUJ4dWV",
        "outputId": "dd7b1ee7-db88-4d20-8005-5f26d7a4496c"
      },
      "execution_count": 2,
      "outputs": [
        {
          "output_type": "stream",
          "name": "stdout",
          "text": [
            "olleh\n"
          ]
        }
      ]
    },
    {
      "cell_type": "code",
      "source": [
        "#ANS 3\n",
        "def square_numbers(numbers):\n",
        "    return [x ** 2 for x in numbers]\n",
        "\n",
        "# Example usage:\n",
        "numbers = [1, 2, 3, 4, 5]\n",
        "squared_list = square_numbers(numbers)\n",
        "print(squared_list)  # Output: [1, 4, 9, 16, 25]\n"
      ],
      "metadata": {
        "colab": {
          "base_uri": "https://localhost:8080/"
        },
        "id": "aawEVWpR4nHP",
        "outputId": "9f3d969d-e0c7-48a5-a3b6-4482d25a51cd"
      },
      "execution_count": 3,
      "outputs": [
        {
          "output_type": "stream",
          "name": "stdout",
          "text": [
            "[1, 4, 9, 16, 25]\n"
          ]
        }
      ]
    },
    {
      "cell_type": "code",
      "source": [
        "#ANS 4\n",
        "def is_prime(n):\n",
        "    if n <= 1:\n",
        "        return False\n",
        "    for i in range(2, int(n ** 0.5) + 1):\n",
        "        if n % i == 0:\n",
        "            return False\n",
        "    return True\n",
        "\n",
        "# Check for numbers from 1 to 200\n",
        "for num in range(1, 201):\n",
        "    if is_prime(num):\n",
        "        print(f\"{num} is prime\")\n"
      ],
      "metadata": {
        "colab": {
          "base_uri": "https://localhost:8080/"
        },
        "id": "l9ZXaWpW4vSP",
        "outputId": "b142478e-3192-4c55-cb04-02e2edaeae53"
      },
      "execution_count": 4,
      "outputs": [
        {
          "output_type": "stream",
          "name": "stdout",
          "text": [
            "2 is prime\n",
            "3 is prime\n",
            "5 is prime\n",
            "7 is prime\n",
            "11 is prime\n",
            "13 is prime\n",
            "17 is prime\n",
            "19 is prime\n",
            "23 is prime\n",
            "29 is prime\n",
            "31 is prime\n",
            "37 is prime\n",
            "41 is prime\n",
            "43 is prime\n",
            "47 is prime\n",
            "53 is prime\n",
            "59 is prime\n",
            "61 is prime\n",
            "67 is prime\n",
            "71 is prime\n",
            "73 is prime\n",
            "79 is prime\n",
            "83 is prime\n",
            "89 is prime\n",
            "97 is prime\n",
            "101 is prime\n",
            "103 is prime\n",
            "107 is prime\n",
            "109 is prime\n",
            "113 is prime\n",
            "127 is prime\n",
            "131 is prime\n",
            "137 is prime\n",
            "139 is prime\n",
            "149 is prime\n",
            "151 is prime\n",
            "157 is prime\n",
            "163 is prime\n",
            "167 is prime\n",
            "173 is prime\n",
            "179 is prime\n",
            "181 is prime\n",
            "191 is prime\n",
            "193 is prime\n",
            "197 is prime\n",
            "199 is prime\n"
          ]
        }
      ]
    },
    {
      "cell_type": "code",
      "source": [
        "#ANS 5\n",
        "class FibonacciIterator:\n",
        "    def __init__(self, terms):\n",
        "        self.terms = terms  # Number of terms to generate\n",
        "        self.a, self.b = 0, 1  # Starting values for the Fibonacci sequence\n",
        "        self.count = 0  # Counter to track the number of terms generated\n",
        "\n",
        "    def __iter__(self):\n",
        "        return self  # Returns the iterator object itself\n",
        "\n",
        "    def __next__(self):\n",
        "        if self.count < self.terms:\n",
        "            fib_number = self.a\n",
        "            self.a, self.b = self.b, self.a + self.b  # Update to next Fibonacci numbers\n",
        "            self.count += 1\n",
        "            return fib_number\n",
        "        else:\n",
        "            raise StopIteration  # Stop iteration when the specified number of terms is reached\n",
        "\n",
        "# Example usage:\n",
        "fibonacci = FibonacciIterator(10)  # Generate the first 10 Fibonacci numbers\n",
        "\n",
        "for num in fibonacci:\n",
        "    print(num)\n"
      ],
      "metadata": {
        "colab": {
          "base_uri": "https://localhost:8080/"
        },
        "id": "HuTFUFie42yY",
        "outputId": "95b2992d-3c11-4e3b-ab51-9318b4d7407c"
      },
      "execution_count": 5,
      "outputs": [
        {
          "output_type": "stream",
          "name": "stdout",
          "text": [
            "0\n",
            "1\n",
            "1\n",
            "2\n",
            "3\n",
            "5\n",
            "8\n",
            "13\n",
            "21\n",
            "34\n"
          ]
        }
      ]
    },
    {
      "cell_type": "code",
      "source": [
        "#ANS 6\n",
        "def powers_of_2(exponent):\n",
        "    for i in range(exponent + 1):\n",
        "        yield 2 ** i\n",
        "\n",
        "# Example usage:\n",
        "for power in powers_of_2(5):\n",
        "    print(power)\n"
      ],
      "metadata": {
        "colab": {
          "base_uri": "https://localhost:8080/"
        },
        "id": "DQEfmSlh5BVn",
        "outputId": "192dcc62-873a-4817-c7bd-ec52db666b4d"
      },
      "execution_count": 6,
      "outputs": [
        {
          "output_type": "stream",
          "name": "stdout",
          "text": [
            "1\n",
            "2\n",
            "4\n",
            "8\n",
            "16\n",
            "32\n"
          ]
        }
      ]
    },
    {
      "cell_type": "code",
      "source": [
        "#ANS 7\n",
        "def read_lines(file_path):\n",
        "    with open(file_path, 'r') as file:\n",
        "        for line in file:\n",
        "            yield line.strip()  # Strip removes trailing newline characters\n",
        "\n",
        "# Example usage:\n",
        "file_path = 'example.txt'  # Replace with your actual file path\n",
        "for line in read_lines(file_path):\n",
        "    print(line)\n",
        "\n",
        "\n"
      ],
      "metadata": {
        "colab": {
          "base_uri": "https://localhost:8080/",
          "height": 332
        },
        "id": "_wWk-wvC5JTg",
        "outputId": "f04cc90e-2373-4406-f302-fb861f748b50"
      },
      "execution_count": 10,
      "outputs": [
        {
          "output_type": "error",
          "ename": "FileNotFoundError",
          "evalue": "[Errno 2] No such file or directory: 'example.txt'",
          "traceback": [
            "\u001b[0;31m---------------------------------------------------------------------------\u001b[0m",
            "\u001b[0;31mFileNotFoundError\u001b[0m                         Traceback (most recent call last)",
            "\u001b[0;32m<ipython-input-10-ca40d6df5236>\u001b[0m in \u001b[0;36m<cell line: 9>\u001b[0;34m()\u001b[0m\n\u001b[1;32m      7\u001b[0m \u001b[0;31m# Example usage:\u001b[0m\u001b[0;34m\u001b[0m\u001b[0;34m\u001b[0m\u001b[0m\n\u001b[1;32m      8\u001b[0m \u001b[0mfile_path\u001b[0m \u001b[0;34m=\u001b[0m \u001b[0;34m'example.txt'\u001b[0m  \u001b[0;31m# Replace with your actual file path\u001b[0m\u001b[0;34m\u001b[0m\u001b[0;34m\u001b[0m\u001b[0m\n\u001b[0;32m----> 9\u001b[0;31m \u001b[0;32mfor\u001b[0m \u001b[0mline\u001b[0m \u001b[0;32min\u001b[0m \u001b[0mread_lines\u001b[0m\u001b[0;34m(\u001b[0m\u001b[0mfile_path\u001b[0m\u001b[0;34m)\u001b[0m\u001b[0;34m:\u001b[0m\u001b[0;34m\u001b[0m\u001b[0;34m\u001b[0m\u001b[0m\n\u001b[0m\u001b[1;32m     10\u001b[0m     \u001b[0mprint\u001b[0m\u001b[0;34m(\u001b[0m\u001b[0mline\u001b[0m\u001b[0;34m)\u001b[0m\u001b[0;34m\u001b[0m\u001b[0;34m\u001b[0m\u001b[0m\n\u001b[1;32m     11\u001b[0m \u001b[0;34m\u001b[0m\u001b[0m\n",
            "\u001b[0;32m<ipython-input-10-ca40d6df5236>\u001b[0m in \u001b[0;36mread_lines\u001b[0;34m(file_path)\u001b[0m\n\u001b[1;32m      1\u001b[0m \u001b[0;31m#ANS 7\u001b[0m\u001b[0;34m\u001b[0m\u001b[0;34m\u001b[0m\u001b[0m\n\u001b[1;32m      2\u001b[0m \u001b[0;32mdef\u001b[0m \u001b[0mread_lines\u001b[0m\u001b[0;34m(\u001b[0m\u001b[0mfile_path\u001b[0m\u001b[0;34m)\u001b[0m\u001b[0;34m:\u001b[0m\u001b[0;34m\u001b[0m\u001b[0;34m\u001b[0m\u001b[0m\n\u001b[0;32m----> 3\u001b[0;31m     \u001b[0;32mwith\u001b[0m \u001b[0mopen\u001b[0m\u001b[0;34m(\u001b[0m\u001b[0mfile_path\u001b[0m\u001b[0;34m,\u001b[0m \u001b[0;34m'r'\u001b[0m\u001b[0;34m)\u001b[0m \u001b[0;32mas\u001b[0m \u001b[0mfile\u001b[0m\u001b[0;34m:\u001b[0m\u001b[0;34m\u001b[0m\u001b[0;34m\u001b[0m\u001b[0m\n\u001b[0m\u001b[1;32m      4\u001b[0m         \u001b[0;32mfor\u001b[0m \u001b[0mline\u001b[0m \u001b[0;32min\u001b[0m \u001b[0mfile\u001b[0m\u001b[0;34m:\u001b[0m\u001b[0;34m\u001b[0m\u001b[0;34m\u001b[0m\u001b[0m\n\u001b[1;32m      5\u001b[0m             \u001b[0;32myield\u001b[0m \u001b[0mline\u001b[0m\u001b[0;34m.\u001b[0m\u001b[0mstrip\u001b[0m\u001b[0;34m(\u001b[0m\u001b[0;34m)\u001b[0m  \u001b[0;31m# Strip removes trailing newline characters\u001b[0m\u001b[0;34m\u001b[0m\u001b[0;34m\u001b[0m\u001b[0m\n",
            "\u001b[0;31mFileNotFoundError\u001b[0m: [Errno 2] No such file or directory: 'example.txt'"
          ]
        }
      ]
    },
    {
      "cell_type": "code",
      "source": [
        "#ANS 8\n",
        "# List of tuples\n",
        "my_list = [(1, 3), (2, 2), (4, 1), (3, 4)]\n",
        "\n",
        "# Sort the list based on the second element of each tuple\n",
        "sorted_list = sorted(my_list, key=lambda x: x[1])\n",
        "\n",
        "print(sorted_list)\n"
      ],
      "metadata": {
        "colab": {
          "base_uri": "https://localhost:8080/"
        },
        "id": "28KO5WWx5Q6w",
        "outputId": "ec4b7a4e-2cc1-47c0-ec5c-b00a6a8907b7"
      },
      "execution_count": 11,
      "outputs": [
        {
          "output_type": "stream",
          "name": "stdout",
          "text": [
            "[(4, 1), (2, 2), (1, 3), (3, 4)]\n"
          ]
        }
      ]
    },
    {
      "cell_type": "code",
      "source": [
        "#ANS 9\n",
        "# List of temperatures in Celsius\n",
        "celsius_temperatures = [0, 20, 37, 100, -5]\n",
        "\n",
        "# Function to convert Celsius to Fahrenheit\n",
        "def celsius_to_fahrenheit(celsius):\n",
        "    return (celsius * 9/5) + 32\n",
        "\n",
        "# Use map to apply the conversion function to each element in the list\n",
        "fahrenheit_temperatures = list(map(celsius_to_fahrenheit, celsius_temperatures))\n",
        "\n",
        "# Print the result\n",
        "print(fahrenheit_temperatures)\n"
      ],
      "metadata": {
        "colab": {
          "base_uri": "https://localhost:8080/"
        },
        "id": "a9kQpHcr5325",
        "outputId": "95c8d2da-43d4-45e1-e17b-f26e521cce84"
      },
      "execution_count": 12,
      "outputs": [
        {
          "output_type": "stream",
          "name": "stdout",
          "text": [
            "[32.0, 68.0, 98.6, 212.0, 23.0]\n"
          ]
        }
      ]
    },
    {
      "cell_type": "code",
      "source": [
        "#ANS 10\n",
        "# Function to check if a character is not a vowel\n",
        "def is_not_vowel(char):\n",
        "    return char.lower() not in 'aeiou'\n",
        "\n",
        "# Input string\n",
        "input_string = \"Hello World!\"\n",
        "\n",
        "# Use filter to remove vowels\n",
        "filtered_string = ''.join(filter(is_not_vowel, input_string))\n",
        "\n",
        "# Print the result\n",
        "print(filtered_string)\n"
      ],
      "metadata": {
        "colab": {
          "base_uri": "https://localhost:8080/"
        },
        "id": "RSsUOOuY6EOZ",
        "outputId": "e7b53b8d-e08a-49ea-ba3c-b2aec01316a2"
      },
      "execution_count": 13,
      "outputs": [
        {
          "output_type": "stream",
          "name": "stdout",
          "text": [
            "Hll Wrld!\n"
          ]
        }
      ]
    },
    {
      "cell_type": "code",
      "source": [],
      "metadata": {
        "id": "QR7ngdm86M3t"
      },
      "execution_count": null,
      "outputs": []
    }
  ]
}